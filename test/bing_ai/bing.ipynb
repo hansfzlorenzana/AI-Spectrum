{
 "cells": [
  {
   "cell_type": "code",
   "execution_count": 65,
   "metadata": {},
   "outputs": [
    {
     "name": "stdout",
     "output_type": "stream",
     "text": [
      "That's an interesting proverb. I don't know what it means in this context, but I'll pick a random number. How about 3?\n"
     ]
    }
   ],
   "source": [
    "from EdgeGPT import Chatbot, ConversationStyle\n",
    "import json\n",
    "\n",
    "prompt = 'The enemy of my enemy is my friend. Pick from numbers 1 to 4.'\n",
    "with open('./cookies.json', 'r') as f:\n",
    "    cookies = json.load(f)\n",
    "bot = await Chatbot.create(cookies=cookies)\n",
    "result = await bot.ask(prompt=prompt, conversation_style=ConversationStyle.creative) #conversationstyle can be 'creative', 'balanced; or 'precise'\n",
    "await bot.close()\n",
    "\n",
    "# print(result['item']['messages'][1]['hiddenText'])\n",
    "print(result['item']['messages'][1]['text'])\n",
    "\n"
   ]
  }
 ],
 "metadata": {
  "kernelspec": {
   "display_name": "maxim",
   "language": "python",
   "name": "python3"
  },
  "language_info": {
   "codemirror_mode": {
    "name": "ipython",
    "version": 3
   },
   "file_extension": ".py",
   "mimetype": "text/x-python",
   "name": "python",
   "nbconvert_exporter": "python",
   "pygments_lexer": "ipython3",
   "version": "3.10.9"
  },
  "orig_nbformat": 4
 },
 "nbformat": 4,
 "nbformat_minor": 2
}
