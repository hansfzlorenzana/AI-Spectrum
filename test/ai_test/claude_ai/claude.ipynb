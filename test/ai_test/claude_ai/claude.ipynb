{
 "cells": [
  {
   "cell_type": "code",
   "execution_count": 2,
   "metadata": {},
   "outputs": [
    {
     "ename": "KeyError",
     "evalue": "'ANTHROPIC_API_KEY'",
     "output_type": "error",
     "traceback": [
      "\u001b[0;31m---------------------------------------------------------------------------\u001b[0m",
      "\u001b[0;31mKeyError\u001b[0m                                  Traceback (most recent call last)",
      "Cell \u001b[0;32mIn[2], line 20\u001b[0m\n\u001b[1;32m     16\u001b[0m         \u001b[39mprint\u001b[39m(data)\n\u001b[1;32m     19\u001b[0m \u001b[39mif\u001b[39;00m \u001b[39m__name__\u001b[39m \u001b[39m==\u001b[39m \u001b[39m\"\u001b[39m\u001b[39m__main__\u001b[39m\u001b[39m\"\u001b[39m:\n\u001b[0;32m---> 20\u001b[0m     main()\n",
      "Cell \u001b[0;32mIn[2], line 6\u001b[0m, in \u001b[0;36mmain\u001b[0;34m(max_tokens_to_sample)\u001b[0m\n\u001b[1;32m      5\u001b[0m \u001b[39mdef\u001b[39;00m \u001b[39mmain\u001b[39m(max_tokens_to_sample: \u001b[39mint\u001b[39m \u001b[39m=\u001b[39m \u001b[39m200\u001b[39m):\n\u001b[0;32m----> 6\u001b[0m     c \u001b[39m=\u001b[39m anthropic\u001b[39m.\u001b[39mClient(os\u001b[39m.\u001b[39;49menviron[\u001b[39m\"\u001b[39;49m\u001b[39mANTHROPIC_API_KEY\u001b[39;49m\u001b[39m\"\u001b[39;49m])\n\u001b[1;32m      8\u001b[0m     response \u001b[39m=\u001b[39m c\u001b[39m.\u001b[39mcompletion_stream(\n\u001b[1;32m      9\u001b[0m         prompt\u001b[39m=\u001b[39m\u001b[39mf\u001b[39m\u001b[39m\"\u001b[39m\u001b[39m{\u001b[39;00manthropic\u001b[39m.\u001b[39mHUMAN_PROMPT\u001b[39m}\u001b[39;00m\u001b[39m How many toes do dogs have?\u001b[39m\u001b[39m{\u001b[39;00manthropic\u001b[39m.\u001b[39mAI_PROMPT\u001b[39m}\u001b[39;00m\u001b[39m\"\u001b[39m,\n\u001b[1;32m     10\u001b[0m         stop_sequences\u001b[39m=\u001b[39m[anthropic\u001b[39m.\u001b[39mHUMAN_PROMPT],\n\u001b[0;32m   (...)\u001b[0m\n\u001b[1;32m     13\u001b[0m         stream\u001b[39m=\u001b[39m\u001b[39mTrue\u001b[39;00m,\n\u001b[1;32m     14\u001b[0m     )\n\u001b[1;32m     15\u001b[0m     \u001b[39mfor\u001b[39;00m data \u001b[39min\u001b[39;00m response:\n",
      "File \u001b[0;32m/opt/homebrew/Caskroom/miniforge/base/envs/maxim/lib/python3.10/os.py:680\u001b[0m, in \u001b[0;36m_Environ.__getitem__\u001b[0;34m(self, key)\u001b[0m\n\u001b[1;32m    677\u001b[0m     value \u001b[39m=\u001b[39m \u001b[39mself\u001b[39m\u001b[39m.\u001b[39m_data[\u001b[39mself\u001b[39m\u001b[39m.\u001b[39mencodekey(key)]\n\u001b[1;32m    678\u001b[0m \u001b[39mexcept\u001b[39;00m \u001b[39mKeyError\u001b[39;00m:\n\u001b[1;32m    679\u001b[0m     \u001b[39m# raise KeyError with the original key value\u001b[39;00m\n\u001b[0;32m--> 680\u001b[0m     \u001b[39mraise\u001b[39;00m \u001b[39mKeyError\u001b[39;00m(key) \u001b[39mfrom\u001b[39;00m \u001b[39mNone\u001b[39m\n\u001b[1;32m    681\u001b[0m \u001b[39mreturn\u001b[39;00m \u001b[39mself\u001b[39m\u001b[39m.\u001b[39mdecodevalue(value)\n",
      "\u001b[0;31mKeyError\u001b[0m: 'ANTHROPIC_API_KEY'"
     ]
    }
   ],
   "source": [
    "import anthropic\n",
    "import os\n",
    "\n",
    "\n",
    "def main(max_tokens_to_sample: int = 200):\n",
    "    c = anthropic.Client(os.environ[\"ANTHROPIC_API_KEY\"])\n",
    "\n",
    "    response = c.completion_stream(\n",
    "        prompt=f\"{anthropic.HUMAN_PROMPT} How many toes do dogs have?{anthropic.AI_PROMPT}\",\n",
    "        stop_sequences=[anthropic.HUMAN_PROMPT],\n",
    "        max_tokens_to_sample=max_tokens_to_sample,\n",
    "        model=\"claude-v1\",\n",
    "        stream=True,\n",
    "    )\n",
    "    for data in response:\n",
    "        print(data)\n",
    "\n",
    "\n",
    "if __name__ == \"__main__\":\n",
    "    main()"
   ]
  }
 ],
 "metadata": {
  "kernelspec": {
   "display_name": "maxim",
   "language": "python",
   "name": "python3"
  },
  "language_info": {
   "codemirror_mode": {
    "name": "ipython",
    "version": 3
   },
   "file_extension": ".py",
   "mimetype": "text/x-python",
   "name": "python",
   "nbconvert_exporter": "python",
   "pygments_lexer": "ipython3",
   "version": "3.10.9"
  },
  "orig_nbformat": 4
 },
 "nbformat": 4,
 "nbformat_minor": 2
}
