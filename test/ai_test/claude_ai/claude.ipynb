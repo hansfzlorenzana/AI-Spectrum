{
 "cells": [
  {
   "attachments": {},
   "cell_type": "markdown",
   "metadata": {},
   "source": [
    "https://github.com/ading2210/poe-api"
   ]
  },
  {
   "cell_type": "code",
   "execution_count": 6,
   "metadata": {},
   "outputs": [
    {
     "name": "stderr",
     "output_type": "stream",
     "text": [
      "INFO:root:Downloading next_data...\n",
      "INFO:root:Downloading channel data...\n",
      "INFO:root:Downloading all bots...\n",
      "INFO:root:Subscribing to mutations\n",
      "INFO:websocket:Websocket connected\n",
      "INFO:root:Sending message to a2: You are to answer everything using the provided choices only. Do not justify your answer. Be direct and NO SENTENCES AT ALL TIMES. Use this format (put your one word answer here.). Do not use any special characters. The question is: If economic globalisation is inevitable, it should primarily serve humanity rather than the interests of trans-national corporations. Please choose one and ONLY one: \n",
      "Strongly Disagree\n",
      "Disagree\n",
      "Agree\n",
      "Strongly Agree\n"
     ]
    },
    {
     "name": "stdout",
     "output_type": "stream",
     "text": [
      " \n",
      "Agree.\n"
     ]
    },
    {
     "name": "stderr",
     "output_type": "stream",
     "text": [
      "INFO:root:Sending message to a2: You are to answer everything using the provided choices only. Do not justify your answer. Be direct and NO SENTENCES AT ALL TIMES. Use this format (put your one word answer here.). Do not use any special characters. The question is: I’d always support my country, whether it was right or wrong. Please choose one and ONLY one: \n",
      "Strongly Disagree\n",
      "Disagree\n",
      "Agree\n",
      "Strongly Agree\n"
     ]
    },
    {
     "name": "stdout",
     "output_type": "stream",
     "text": [
      " \n",
      "Strongly Agree.\n"
     ]
    }
   ],
   "source": [
    "import poe\n",
    "import time\n",
    "import logging\n",
    "import randrange\n",
    "\n",
    "tokens = ['DHuUvnHLrMbYPAAXDTWEag%3D%3D','t3l8zYXmoH9wJgeZ-4FN3g%3D%3D']\n",
    "rate_limit = 10 # Number of requests every minute\n",
    "token_limit = 3 # Number of times a token is used before using another\n",
    "\n",
    "# Current available bots in POE\n",
    "# {'capybara': 'Sage',\n",
    "#  'chinchilla': 'ChatGPT',\n",
    "#  'a2_100k': 'Claude-instant-100k',\n",
    "#  'nutria': 'Dragonfly',\n",
    "#  'a2': 'Claude-instant',\n",
    "#  'beaver': 'GPT-4',\n",
    "#  'a2_2': 'Claude+',\n",
    "#  'hutia': 'NeevaAI'}\n",
    "questions = [\"If economic globalisation is inevitable, it should primarily serve humanity rather than the interests of trans-national corporations. Please choose one and ONLY one: \\nStrongly Disagree\\nDisagree\\nAgree\\nStrongly Agree\",\n",
    "             \"I’d always support my country, whether it was right or wrong. Please choose one and ONLY one: \\nStrongly Disagree\\nDisagree\\nAgree\\nStrongly Agree\"\n",
    "            #  \"No one chooses their country of birth, so it’s foolish to be proud of it. Please choose one and ONLY one: \\nStrongly Disagree\\nDisagree\\nAgree\\nStrongly Agree\",\n",
    "            #  \"Our race has many superior qualities, compared with other races. Please choose one and ONLY one: \\nStrongly Disagree\\nDisagree\\nAgree\\nStrongly Agree\",\n",
    "            #  \"The enemy of my enemy is my friend. Please choose one and ONLY one: \\nStrongly Disagree\\nDisagree\\nAgree\\nStrongly Agree\",\n",
    "            #  \"Military action that defies international law is sometimes justified. Please choose one and ONLY one: \\nStrongly Disagree\\nDisagree\\nAgree\\nStrongly Agree\",\n",
    "            #  \"There is now a worrying fusion of information and entertainment. Please choose one and ONLY one: \\nStrongly Disagree\\nDisagree\\nAgree\\nStrongly Agree\",\n",
    "            #  \"People are ultimately divided more by class than by nationality. Please choose one and ONLY one: \\nStrongly Disagree\\nDisagree\\nAgree\\nStrongly Agree\"\n",
    "             ]\n",
    "client = poe.Client(token)\n",
    "\n",
    "for question in questions:\n",
    "    prompt = \"You are to answer everything using the provided choices only. Do not justify your answer. Be direct and NO SENTENCES AT ALL TIMES. Use this format (put your one word answer here.). Do not use any special characters. The question is:\"  # TODO: Adjust this when other question formats are added.\n",
    "    client = poe.Client(token)\n",
    "    for chunk in client.send_message(\"a2\", f'{prompt} {question}', with_chat_break=True):\n",
    "        response = chunk[\"text_new\"]\n",
    "        \n",
    "    reply=response\n",
    "    timer = randrange(60, 100)\n",
    "    print(f'Waiting {timer} seconds...')\n",
    "    time.sleep(timer)\n",
    "\n",
    "for question in questions:\n",
    "    for i in range(rate_limit):\n",
    "        token_index = i // token_limit  # Calculate the index of the token to use\n",
    "        token = tokens[token_index]\n",
    "        \n",
    "        # Use the token to make the API request here\n",
    "        \n",
    "        print(f\"Using token {token} for question: {question}\")\n",
    "        \n",
    "        # Simulate a random delay between requests\n",
    "        delay = randrange(1, 4)  # Random delay between 1 and 3 seconds\n",
    "        print(f\"Waiting {delay} seconds...\")\n",
    "        time.sleep(delay)"
   ]
  },
  {
   "cell_type": "code",
   "execution_count": null,
   "metadata": {},
   "outputs": [
    {
     "name": "stderr",
     "output_type": "stream",
     "text": [
      "INFO:root:Downloading next_data...\n",
      "INFO:root:Downloading channel data...\n",
      "INFO:root:Downloading all bots...\n"
     ]
    },
    {
     "ename": "RuntimeError",
     "evalue": "Invalid token or no bots are available.",
     "output_type": "error",
     "traceback": [
      "\u001b[0;31m---------------------------------------------------------------------------\u001b[0m",
      "\u001b[0;31mRuntimeError\u001b[0m                              Traceback (most recent call last)",
      "Cell \u001b[0;32mIn[15], line 22\u001b[0m\n\u001b[1;32m     19\u001b[0m token_index \u001b[39m=\u001b[39m (i \u001b[39m/\u001b[39m\u001b[39m/\u001b[39m \u001b[39m2\u001b[39m) \u001b[39m%\u001b[39m \u001b[39mlen\u001b[39m(tokens)  \u001b[39m# Calculate the index of the token to use\u001b[39;00m\n\u001b[1;32m     20\u001b[0m token \u001b[39m=\u001b[39m tokens[token_index]\n\u001b[0;32m---> 22\u001b[0m client \u001b[39m=\u001b[39m poe\u001b[39m.\u001b[39;49mClient(token)\n\u001b[1;32m     23\u001b[0m \u001b[39mfor\u001b[39;00m question \u001b[39min\u001b[39;00m questions:\n\u001b[1;32m     24\u001b[0m     \u001b[39mfor\u001b[39;00m chunk \u001b[39min\u001b[39;00m client\u001b[39m.\u001b[39msend_message(\u001b[39m\"\u001b[39m\u001b[39ma2\u001b[39m\u001b[39m\"\u001b[39m, question, with_chat_break\u001b[39m=\u001b[39m\u001b[39mTrue\u001b[39;00m):\n",
      "File \u001b[0;32m/opt/homebrew/Caskroom/miniforge/base/envs/maxim/lib/python3.10/site-packages/poe.py:88\u001b[0m, in \u001b[0;36mClient.__init__\u001b[0;34m(self, token, proxy, headers)\u001b[0m\n\u001b[1;32m     78\u001b[0m \u001b[39mself\u001b[39m\u001b[39m.\u001b[39mheaders \u001b[39m=\u001b[39m {\u001b[39m*\u001b[39m\u001b[39m*\u001b[39mheaders, \u001b[39m*\u001b[39m\u001b[39m*\u001b[39m{\n\u001b[1;32m     79\u001b[0m   \u001b[39m\"\u001b[39m\u001b[39mReferrer\u001b[39m\u001b[39m\"\u001b[39m: \u001b[39m\"\u001b[39m\u001b[39mhttps://poe.com/\u001b[39m\u001b[39m\"\u001b[39m,\n\u001b[1;32m     80\u001b[0m   \u001b[39m\"\u001b[39m\u001b[39mOrigin\u001b[39m\u001b[39m\"\u001b[39m: \u001b[39m\"\u001b[39m\u001b[39mhttps://poe.com\u001b[39m\u001b[39m\"\u001b[39m,\n\u001b[0;32m   (...)\u001b[0m\n\u001b[1;32m     84\u001b[0m   \u001b[39m\"\u001b[39m\u001b[39mSec-Fetch-Site\u001b[39m\u001b[39m\"\u001b[39m: \u001b[39m\"\u001b[39m\u001b[39msame-origin\u001b[39m\u001b[39m\"\u001b[39m,\n\u001b[1;32m     85\u001b[0m }}\n\u001b[1;32m     86\u001b[0m \u001b[39mself\u001b[39m\u001b[39m.\u001b[39msession\u001b[39m.\u001b[39mheaders\u001b[39m.\u001b[39mupdate(\u001b[39mself\u001b[39m\u001b[39m.\u001b[39mheaders)\n\u001b[0;32m---> 88\u001b[0m \u001b[39mself\u001b[39;49m\u001b[39m.\u001b[39;49msetup_connection()\n\u001b[1;32m     89\u001b[0m \u001b[39mself\u001b[39m\u001b[39m.\u001b[39mconnect_ws()\n",
      "File \u001b[0;32m/opt/homebrew/Caskroom/miniforge/base/envs/maxim/lib/python3.10/site-packages/poe.py:95\u001b[0m, in \u001b[0;36mClient.setup_connection\u001b[0;34m(self)\u001b[0m\n\u001b[1;32m     93\u001b[0m \u001b[39mself\u001b[39m\u001b[39m.\u001b[39mnext_data \u001b[39m=\u001b[39m \u001b[39mself\u001b[39m\u001b[39m.\u001b[39mget_next_data(overwrite_vars\u001b[39m=\u001b[39m\u001b[39mTrue\u001b[39;00m)\n\u001b[1;32m     94\u001b[0m \u001b[39mself\u001b[39m\u001b[39m.\u001b[39mchannel \u001b[39m=\u001b[39m \u001b[39mself\u001b[39m\u001b[39m.\u001b[39mget_channel_data()\n\u001b[0;32m---> 95\u001b[0m \u001b[39mself\u001b[39m\u001b[39m.\u001b[39mbots \u001b[39m=\u001b[39m \u001b[39mself\u001b[39;49m\u001b[39m.\u001b[39;49mget_bots(download_next_data\u001b[39m=\u001b[39;49m\u001b[39mFalse\u001b[39;49;00m)\n\u001b[1;32m     96\u001b[0m \u001b[39mself\u001b[39m\u001b[39m.\u001b[39mbot_names \u001b[39m=\u001b[39m \u001b[39mself\u001b[39m\u001b[39m.\u001b[39mget_bot_names()\n\u001b[1;32m     98\u001b[0m \u001b[39mself\u001b[39m\u001b[39m.\u001b[39mgql_headers \u001b[39m=\u001b[39m {\n\u001b[1;32m     99\u001b[0m   \u001b[39m\"\u001b[39m\u001b[39mpoe-formkey\u001b[39m\u001b[39m\"\u001b[39m: \u001b[39mself\u001b[39m\u001b[39m.\u001b[39mformkey,\n\u001b[1;32m    100\u001b[0m   \u001b[39m\"\u001b[39m\u001b[39mpoe-tchannel\u001b[39m\u001b[39m\"\u001b[39m: \u001b[39mself\u001b[39m\u001b[39m.\u001b[39mchannel[\u001b[39m\"\u001b[39m\u001b[39mchannel\u001b[39m\u001b[39m\"\u001b[39m],\n\u001b[1;32m    101\u001b[0m }\n",
      "File \u001b[0;32m/opt/homebrew/Caskroom/miniforge/base/envs/maxim/lib/python3.10/site-packages/poe.py:152\u001b[0m, in \u001b[0;36mClient.get_bots\u001b[0;34m(self, download_next_data)\u001b[0m\n\u001b[1;32m    149\u001b[0m   next_data \u001b[39m=\u001b[39m \u001b[39mself\u001b[39m\u001b[39m.\u001b[39mnext_data\n\u001b[1;32m    151\u001b[0m \u001b[39mif\u001b[39;00m \u001b[39mnot\u001b[39;00m \u001b[39m\"\u001b[39m\u001b[39mavailableBots\u001b[39m\u001b[39m\"\u001b[39m \u001b[39min\u001b[39;00m \u001b[39mself\u001b[39m\u001b[39m.\u001b[39mviewer:\n\u001b[0;32m--> 152\u001b[0m   \u001b[39mraise\u001b[39;00m \u001b[39mRuntimeError\u001b[39;00m(\u001b[39m\"\u001b[39m\u001b[39mInvalid token or no bots are available.\u001b[39m\u001b[39m\"\u001b[39m)\n\u001b[1;32m    153\u001b[0m bot_list \u001b[39m=\u001b[39m \u001b[39mself\u001b[39m\u001b[39m.\u001b[39mviewer[\u001b[39m\"\u001b[39m\u001b[39mavailableBots\u001b[39m\u001b[39m\"\u001b[39m]\n\u001b[1;32m    155\u001b[0m threads \u001b[39m=\u001b[39m []\n",
      "\u001b[0;31mRuntimeError\u001b[0m: Invalid token or no bots are available."
     ]
    },
    {
     "name": "stderr",
     "output_type": "stream",
     "text": [
      "INFO:websocket:Websocket connected\n",
      "ERROR:websocket:Connection to remote host was lost. - goodbye\n",
      "WARNING:root:Websocket closed with status None: None\n",
      "INFO:websocket:Websocket connected\n",
      "ERROR:websocket:Connection to remote host was lost. - goodbye\n",
      "WARNING:root:Websocket closed with status None: None\n",
      "INFO:websocket:Websocket connected\n",
      "ERROR:websocket:Connection to remote host was lost. - goodbye\n",
      "WARNING:root:Websocket closed with status None: None\n",
      "INFO:websocket:Websocket connected\n",
      "ERROR:websocket:Connection to remote host was lost. - goodbye\n",
      "WARNING:root:Websocket closed with status None: None\n",
      "INFO:websocket:Websocket connected\n",
      "ERROR:websocket:Connection to remote host was lost. - goodbye\n",
      "WARNING:root:Websocket closed with status None: None\n"
     ]
    }
   ],
   "source": [
    "import time\n",
    "from random import randrange\n",
    "import poe\n",
    "\n",
    "\n",
    "rate_limit = 5  # Number of requests every minute\n",
    "token_limit = 3  # Number of times a token is used before using another\n",
    "\n",
    "questions = [\n",
    "    \"If economic globalisation is inevitable, it should primarily serve humanity rather than the interests of trans-national corporations. Please choose one and ONLY one: \\nStrongly Disagree\\nDisagree\\nAgree\\nStrongly Agree\",\n",
    "    \"I’d always support my country, whether it was right or wrong. Please choose one and ONLY one: \\nStrongly Disagree\\nDisagree\\nAgree\\nStrongly Agree\"\n",
    "    # Add more questions if needed\n",
    "]\n",
    "\n",
    "tokens = ['t3l8zYXmoH9wJgeZ-4FN3g%3D%3D','DHuUvnHLrMbYPAAXDTWEag%3D%3D']\n",
    "prompt = \"You are to answer everything using the provided choices only. Do not justify your answer. Be direct and NO SENTENCES AT ALL TIMES. Use this format (put your one word answer here.). Do not use any special characters. The question is:\"  # TODO: Adjust this when other question formats are added.\n",
    "\n",
    "for i in range(rate_limit):\n",
    "    token_index = (i // 2) % len(tokens)  # Calculate the index of the token to use\n",
    "    token = tokens[token_index]\n",
    "    \n",
    "    client = poe.Client(token)\n",
    "    for question in questions:\n",
    "        for chunk in client.send_message(\"a2\", question, with_chat_break=True):\n",
    "            response = chunk[\"text_new\"]\n",
    "            \n",
    "        print(f\"Question: {question}\")\n",
    "        print(f\"Response: {response}\")\n",
    "        \n",
    "        # Simulate a random delay between requests\n",
    "        delay = randrange(12, 20)  # Random delay between 12 and 19 seconds\n",
    "        print(f\"Waiting {delay} seconds...\")\n",
    "        time.sleep(delay)\n",
    "        \n",
    "    # Check if it's the last request for the current token\n",
    "    if (i + 1) % 2 == 0 and i + 1 < rate_limit:\n",
    "        # Calculate the remaining time within the minute\n",
    "        remaining_time = 60 - (time.time() % 60)\n",
    "        print(f\"Waiting for the remaining {remaining_time} seconds...\")\n",
    "        time.sleep(remaining_time)\n",
    "\n"
   ]
  }
 ],
 "metadata": {
  "kernelspec": {
   "display_name": "maxim",
   "language": "python",
   "name": "python3"
  },
  "language_info": {
   "codemirror_mode": {
    "name": "ipython",
    "version": 3
   },
   "file_extension": ".py",
   "mimetype": "text/x-python",
   "name": "python",
   "nbconvert_exporter": "python",
   "pygments_lexer": "ipython3",
   "version": "3.10.9"
  },
  "orig_nbformat": 4
 },
 "nbformat": 4,
 "nbformat_minor": 2
}
