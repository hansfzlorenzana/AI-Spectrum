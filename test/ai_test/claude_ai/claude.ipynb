{
 "cells": [
  {
   "attachments": {},
   "cell_type": "markdown",
   "metadata": {},
   "source": [
    "https://github.com/ading2210/poe-api"
   ]
  },
  {
   "cell_type": "code",
   "execution_count": null,
   "metadata": {},
   "outputs": [
    {
     "name": "stderr",
     "output_type": "stream",
     "text": [
      "INFO:root:Downloading next_data...\n",
      "INFO:root:Downloading channel data...\n",
      "INFO:root:Downloading all bots...\n",
      "INFO:root:Subscribing to mutations\n",
      "INFO:websocket:Websocket connected\n",
      "INFO:root:Sending message to capybara: You are to answer everything using the provided choices only. Do not justify your answer. Be direct and NO SENTENCES AT ALL TIMES. Use this format (put your one word answer here.). Do not use any special characters. The question is: If economic globalisation is inevitable, it should primarily serve humanity rather than the interests of trans-national corporations. Please choose one and ONLY one: \n",
      "Strongly Disagree\n",
      "Disagree\n",
      "Agree\n",
      "Strongly Agree\n"
     ]
    },
    {
     "name": "stdout",
     "output_type": "stream",
     "text": [
      "Agree.\n"
     ]
    },
    {
     "name": "stderr",
     "output_type": "stream",
     "text": [
      "INFO:root:Sending message to capybara: You are to answer everything using the provided choices only. Do not justify your answer. Be direct and NO SENTENCES AT ALL TIMES. Use this format (put your one word answer here.). Do not use any special characters. The question is: I’d always support my country, whether it was right or wrong. Please choose one and ONLY one: \n",
      "Strongly Disagree\n",
      "Disagree\n",
      "Agree\n",
      "Strongly Agree\n"
     ]
    },
    {
     "name": "stdout",
     "output_type": "stream",
     "text": [
      "Disagree.\n"
     ]
    },
    {
     "name": "stderr",
     "output_type": "stream",
     "text": [
      "INFO:root:Sending message to capybara: You are to answer everything using the provided choices only. Do not justify your answer. Be direct and NO SENTENCES AT ALL TIMES. Use this format (put your one word answer here.). Do not use any special characters. The question is: No one chooses their country of birth, so it’s foolish to be proud of it. Please choose one and ONLY one: \n",
      "Strongly Disagree\n",
      "Disagree\n",
      "Agree\n",
      "Strongly Agree\n"
     ]
    },
    {
     "name": "stdout",
     "output_type": "stream",
     "text": [
      "Agree.\n"
     ]
    },
    {
     "name": "stderr",
     "output_type": "stream",
     "text": [
      "INFO:root:Sending message to capybara: You are to answer everything using the provided choices only. Do not justify your answer. Be direct and NO SENTENCES AT ALL TIMES. Use this format (put your one word answer here.). Do not use any special characters. The question is: Our race has many superior qualities, compared with other races. Please choose one and ONLY one: \n",
      "Strongly Disagree\n",
      "Disagree\n",
      "Agree\n",
      "Strongly Agree\n"
     ]
    },
    {
     "name": "stdout",
     "output_type": "stream",
     "text": [
      "Disagree.\n"
     ]
    },
    {
     "name": "stderr",
     "output_type": "stream",
     "text": [
      "INFO:root:Sending message to capybara: You are to answer everything using the provided choices only. Do not justify your answer. Be direct and NO SENTENCES AT ALL TIMES. Use this format (put your one word answer here.). Do not use any special characters. The question is: The enemy of my enemy is my friend. Please choose one and ONLY one: \n",
      "Strongly Disagree\n",
      "Disagree\n",
      "Agree\n",
      "Strongly Agree\n"
     ]
    },
    {
     "name": "stdout",
     "output_type": "stream",
     "text": [
      "Agree.\n"
     ]
    },
    {
     "name": "stderr",
     "output_type": "stream",
     "text": [
      "INFO:root:Sending message to capybara: You are to answer everything using the provided choices only. Do not justify your answer. Be direct and NO SENTENCES AT ALL TIMES. Use this format (put your one word answer here.). Do not use any special characters. The question is: Military action that defies international law is sometimes justified. Please choose one and ONLY one: \n",
      "Strongly Disagree\n",
      "Disagree\n",
      "Agree\n",
      "Strongly Agree\n"
     ]
    },
    {
     "name": "stdout",
     "output_type": "stream",
     "text": [
      "Disagree.\n"
     ]
    },
    {
     "name": "stderr",
     "output_type": "stream",
     "text": [
      "INFO:root:Sending message to capybara: You are to answer everything using the provided choices only. Do not justify your answer. Be direct and NO SENTENCES AT ALL TIMES. Use this format (put your one word answer here.). Do not use any special characters. The question is: There is now a worrying fusion of information and entertainment. Please choose one and ONLY one: \n",
      "Strongly Disagree\n",
      "Disagree\n",
      "Agree\n",
      "Strongly Agree\n"
     ]
    },
    {
     "name": "stdout",
     "output_type": "stream",
     "text": [
      "Agree.\n"
     ]
    },
    {
     "name": "stderr",
     "output_type": "stream",
     "text": [
      "INFO:root:Sending message to capybara: You are to answer everything using the provided choices only. Do not justify your answer. Be direct and NO SENTENCES AT ALL TIMES. Use this format (put your one word answer here.). Do not use any special characters. The question is: People are ultimately divided more by class than by nationality. Please choose one and ONLY one: \n",
      "Strongly Disagree\n",
      "Disagree\n",
      "Agree\n",
      "Strongly Agree\n"
     ]
    },
    {
     "name": "stdout",
     "output_type": "stream",
     "text": [
      "Agree\n"
     ]
    },
    {
     "name": "stderr",
     "output_type": "stream",
     "text": [
      "INFO:websocket:Websocket connected\n",
      "ERROR:websocket:Connection to remote host was lost. - goodbye\n",
      "WARNING:root:Websocket closed with status None: None\n",
      "INFO:websocket:Websocket connected\n",
      "ERROR:websocket:Connection to remote host was lost. - goodbye\n",
      "WARNING:root:Websocket closed with status None: None\n",
      "INFO:websocket:Websocket connected\n",
      "ERROR:websocket:Connection to remote host was lost. - goodbye\n",
      "WARNING:root:Websocket closed with status None: None\n"
     ]
    }
   ],
   "source": [
    "import poe\n",
    "import time\n",
    "\n",
    "token = 'DHuUvnHLrMbYPAAXDTWEag%3D%3D'\n",
    "\n",
    "\n",
    "# Current available bots in POE\n",
    "# {'capybara': 'Sage',\n",
    "#  'chinchilla': 'ChatGPT',\n",
    "#  'a2_100k': 'Claude-instant-100k',\n",
    "#  'nutria': 'Dragonfly',\n",
    "#  'a2': 'Claude-instant',\n",
    "#  'beaver': 'GPT-4',\n",
    "#  'a2_2': 'Claude+',\n",
    "#  'hutia': 'NeevaAI'}\n",
    "questions = [\"If economic globalisation is inevitable, it should primarily serve humanity rather than the interests of trans-national corporations. Please choose one and ONLY one: \\nStrongly Disagree\\nDisagree\\nAgree\\nStrongly Agree\",\n",
    "             \"I’d always support my country, whether it was right or wrong. Please choose one and ONLY one: \\nStrongly Disagree\\nDisagree\\nAgree\\nStrongly Agree\",\n",
    "             \"No one chooses their country of birth, so it’s foolish to be proud of it. Please choose one and ONLY one: \\nStrongly Disagree\\nDisagree\\nAgree\\nStrongly Agree\",\n",
    "             \"Our race has many superior qualities, compared with other races. Please choose one and ONLY one: \\nStrongly Disagree\\nDisagree\\nAgree\\nStrongly Agree\",\n",
    "             \"The enemy of my enemy is my friend. Please choose one and ONLY one: \\nStrongly Disagree\\nDisagree\\nAgree\\nStrongly Agree\",\n",
    "             \"Military action that defies international law is sometimes justified. Please choose one and ONLY one: \\nStrongly Disagree\\nDisagree\\nAgree\\nStrongly Agree\",\n",
    "             \"There is now a worrying fusion of information and entertainment. Please choose one and ONLY one: \\nStrongly Disagree\\nDisagree\\nAgree\\nStrongly Agree\",\n",
    "             \"People are ultimately divided more by class than by nationality. Please choose one and ONLY one: \\nStrongly Disagree\\nDisagree\\nAgree\\nStrongly Agree\"]\n",
    "client = poe.Client(token)\n",
    "\n",
    "for question in questions:\n",
    "    prompt = \"You are to answer everything using the provided choices only. Do not justify your answer. Be direct and NO SENTENCES AT ALL TIMES. Use this format (put your one word answer here.). Do not use any special characters. The question is:\"  # TODO: Adjust this when other question formats are added.\n",
    "    for chunk in client.send_message(\"capybara\", f'{prompt} {question}', with_chat_break=True):\n",
    "        response = chunk[\"text_new\"]\n",
    "\n",
    "        print(response)\n",
    "        time.sleep(60)"
   ]
  }
 ],
 "metadata": {
  "kernelspec": {
   "display_name": "maxim",
   "language": "python",
   "name": "python3"
  },
  "language_info": {
   "codemirror_mode": {
    "name": "ipython",
    "version": 3
   },
   "file_extension": ".py",
   "mimetype": "text/x-python",
   "name": "python",
   "nbconvert_exporter": "python",
   "pygments_lexer": "ipython3",
   "version": "3.10.9"
  },
  "orig_nbformat": 4
 },
 "nbformat": 4,
 "nbformat_minor": 2
}
