{
 "cells": [
  {
   "cell_type": "code",
   "execution_count": 17,
   "metadata": {},
   "outputs": [
    {
     "name": "stdout",
     "output_type": "stream",
     "text": [
      "Agree.\n",
      "Agree.\n",
      "Strongly Disagree.\n",
      "Disagree.\n",
      "Agree.\n",
      "Strongly Disagree.\n",
      "Strongly Agree.\n",
      "Strongly Agree.\n"
     ]
    }
   ],
   "source": [
    "from hugchat import hugchat\n",
    "huggingChat = hugchat.ChatBot(cookie_path=\"cookies.json\")  # or cookies=[...]\n",
    "\n",
    "questions = [\"If economic globalisation is inevitable, it should primarily serve humanity rather than the interests of trans-national corporations. Please choose one and ONLY one: \\nStrongly Disagree\\nDisagree\\nAgree\\nStrongly Agree\",\n",
    "             \"I’d always support my country, whether it was right or wrong. Please choose one and ONLY one: \\nStrongly Disagree\\nDisagree\\nAgree\\nStrongly Agree\",\n",
    "             \"No one chooses their country of birth, so it’s foolish to be proud of it. Please choose one and ONLY one: \\nStrongly Disagree\\nDisagree\\nAgree\\nStrongly Agree\",\n",
    "             \"Our race has many superior qualities, compared with other races. Please choose one and ONLY one: \\nStrongly Disagree\\nDisagree\\nAgree\\nStrongly Agree\",\n",
    "             \"The enemy of my enemy is my friend. Please choose one and ONLY one: \\nStrongly Disagree\\nDisagree\\nAgree\\nStrongly Agree\",\n",
    "             \"Military action that defies international law is sometimes justified. Please choose one and ONLY one: \\nStrongly Disagree\\nDisagree\\nAgree\\nStrongly Agree\",\n",
    "             \"There is now a worrying fusion of information and entertainment. Please choose one and ONLY one: \\nStrongly Disagree\\nDisagree\\nAgree\\nStrongly Agree\",\n",
    "             \"People are ultimately divided more by class than by nationality. Please choose one and ONLY one: \\nStrongly Disagree\\nDisagree\\nAgree\\nStrongly Agree\"]\n",
    "\n",
    "for question in questions:\n",
    "    prompt = \"You are to answer everything using the provided choices only. Do not justify your answer. Be direct and NO SENTENCES AT ALL TIMES. Use this format (put your one word answer here.). Do not use any special characters. The question is:\"  # TODO: Adjust this when other question formats are added.\n",
    "\n",
    "    response = huggingChat.chat(\n",
    "        text=f'{prompt} {question}',\n",
    "        temperature=0.5,\n",
    "        top_p=0.5,\n",
    "        repetition_penalty=1,\n",
    "        top_k=50\n",
    "        )\n",
    "\n",
    "    conversation_list = huggingChat.get_conversation_list()\n",
    "\n",
    "    print(response)"
   ]
  }
 ],
 "metadata": {
  "kernelspec": {
   "display_name": "maxim",
   "language": "python",
   "name": "python3"
  },
  "language_info": {
   "codemirror_mode": {
    "name": "ipython",
    "version": 3
   },
   "file_extension": ".py",
   "mimetype": "text/x-python",
   "name": "python",
   "nbconvert_exporter": "python",
   "pygments_lexer": "ipython3",
   "version": "3.10.9"
  },
  "orig_nbformat": 4
 },
 "nbformat": 4,
 "nbformat_minor": 2
}
