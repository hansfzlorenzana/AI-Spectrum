{
 "cells": [
  {
   "cell_type": "code",
   "execution_count": 4,
   "metadata": {},
   "outputs": [
    {
     "data": {
      "text/plain": [
       "'Disagree.'"
      ]
     },
     "execution_count": 4,
     "metadata": {},
     "output_type": "execute_result"
    }
   ],
   "source": [
    "import os\n",
    "from Bard import Chatbot\n",
    "\n",
    "# prompt = \"You are to answer everything in one word ONLY and no sentences. The question is:\"\n",
    "prompt = \"You are to answer everything in one word ONLY using this format (your answer here.) and no sentences or asterisks at all times. The question is:\" \n",
    "question = \"Controlling inflation is more important than controlling unemployment. Please choose one and ONLY one: \\nStrongly Disagree\\nDisagree\\nAgree\\nStrongly Agree\"\n",
    "\n",
    "token = os.getenv('BARD_TOKEN')\n",
    "\n",
    "chatbot = Chatbot(token)\n",
    "\n",
    "response = chatbot.ask(f'{prompt} {question}')\n",
    "\n",
    "reply = response['content']\n",
    "\n",
    "x = reply.capitalize()\n",
    "\n",
    "x"
   ]
  },
  {
   "cell_type": "code",
   "execution_count": 9,
   "metadata": {},
   "outputs": [
    {
     "name": "stdout",
     "output_type": "stream",
     "text": [
      "String after conversion:  G\n"
     ]
    }
   ],
   "source": [
    "import re\n",
    "\n",
    "special = \"h4ns Gen!c4\"\n",
    "# normal_string =re.sub(\"[^A-Z]\", \"\", special,0,re.IGNORECASE)\n",
    "normal_string =re.sub(r\"[^a-zA-Z0-9\\s]+\", \"\", special)\n",
    "\n",
    "normal_string = normal_string.title()\n",
    "print(\"String after conversion: \",normal_string)"
   ]
  }
 ],
 "metadata": {
  "kernelspec": {
   "display_name": "maxim",
   "language": "python",
   "name": "python3"
  },
  "language_info": {
   "codemirror_mode": {
    "name": "ipython",
    "version": 3
   },
   "file_extension": ".py",
   "mimetype": "text/x-python",
   "name": "python",
   "nbconvert_exporter": "python",
   "pygments_lexer": "ipython3",
   "version": "3.10.9"
  },
  "orig_nbformat": 4
 },
 "nbformat": 4,
 "nbformat_minor": 2
}
